{
 "cells": [
  {
   "cell_type": "code",
   "execution_count": null,
   "metadata": {},
   "outputs": [],
   "source": [
    "請至以下機器學習巨頭的 blog 參觀，試著閱讀一篇文章並分析其 \n",
    "\n",
    "作業 1：目標\n",
    "Mesh-TensorFlow的超高解析度圖像分析\n",
    "CNN模型可以在數分鐘內對數百萬個圖像的數據集進行訓練，進而提升圖像解析度。\n",
    "\n",
    "作業 2：方法\n",
    "\n",
    "實作方法為基於Mesh-TensorFlow框架，可實現簡單高效的數據和模型並行性，這使用戶可以根據用戶定義的圖像佈局在設備的網格中拆分張量。\n",
    "\n",
    "作業 3：資料來源 \n",
    "\n",
    "醫學數據"
   ]
  }
 ],
 "metadata": {
  "kernelspec": {
   "display_name": "Python 3",
   "language": "python",
   "name": "python3"
  },
  "language_info": {
   "codemirror_mode": {
    "name": "ipython",
    "version": 3
   },
   "file_extension": ".py",
   "mimetype": "text/x-python",
   "name": "python",
   "nbconvert_exporter": "python",
   "pygments_lexer": "ipython3",
   "version": "3.7.4"
  }
 },
 "nbformat": 4,
 "nbformat_minor": 2
}
