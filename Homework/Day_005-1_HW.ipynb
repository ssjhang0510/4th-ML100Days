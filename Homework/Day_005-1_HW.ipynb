{
 "cells": [
  {
   "cell_type": "code",
   "execution_count": 1,
   "metadata": {},
   "outputs": [],
   "source": [
    "import pandas as pd "
   ]
  },
  {
   "cell_type": "code",
   "execution_count": 20,
   "metadata": {},
   "outputs": [],
   "source": [
    "data = {'weekday': ['sun', 'sun','Mon','Mon'],\n",
    "       'city':['Austin','Dallas','Austin','Dallas'],\n",
    "       'visitor':[139,237,326,456]}"
   ]
  },
  {
   "cell_type": "code",
   "execution_count": 21,
   "metadata": {},
   "outputs": [
    {
     "name": "stdout",
     "output_type": "stream",
     "text": [
      "  weekday    city  visitor\n",
      "0     sun  Austin      139\n",
      "1     sun  Dallas      237\n",
      "2     Mon  Austin      326\n",
      "3     Mon  Dallas      456\n"
     ]
    }
   ],
   "source": [
    "visitor_1= pd.DataFrame(data)\n",
    "print(visitor_1)"
   ]
  },
  {
   "cell_type": "code",
   "execution_count": 22,
   "metadata": {},
   "outputs": [],
   "source": [
    "cities = ['Austin','Dalls','Austin','Dalls']\n",
    "Weekends = ['Sun', 'Sun', 'Mon', 'Mon']\n",
    "visitors = [139,237,326,456]\n",
    "\n",
    "list_labels = ['city','weekend','visitor']\n",
    "list_cols = [cities, Weekends, visitors]\n",
    "\n",
    "zipped = list(zip(list_labels,list_cols))"
   ]
  },
  {
   "cell_type": "code",
   "execution_count": 23,
   "metadata": {},
   "outputs": [
    {
     "name": "stdout",
     "output_type": "stream",
     "text": [
      "     city weekend  visitor\n",
      "0  Austin     Sun      139\n",
      "1   Dalls     Sun      237\n",
      "2  Austin     Mon      326\n",
      "3   Dalls     Mon      456\n"
     ]
    }
   ],
   "source": [
    "visitors_2 = pd.DataFrame(dict(zipped))\n",
    "print(visitors_2)"
   ]
  },
  {
   "cell_type": "code",
   "execution_count": 26,
   "metadata": {},
   "outputs": [
    {
     "data": {
      "text/plain": [
       "weekday\n",
       "Mon    391\n",
       "sun    188\n",
       "Name: visitor, dtype: int64"
      ]
     },
     "execution_count": 26,
     "metadata": {},
     "output_type": "execute_result"
    }
   ],
   "source": [
    "visitor_1.groupby(\"weekday\")['visitor'].mean()"
   ]
  },
  {
   "cell_type": "code",
   "execution_count": 29,
   "metadata": {},
   "outputs": [
    {
     "data": {
      "text/plain": [
       "array([0.10091828, 0.53780719, 0.09072052, 0.26677978, 0.10265694,\n",
       "       0.08898451, 0.25117107, 0.67267884, 0.00220188, 0.89726221])"
      ]
     },
     "execution_count": 29,
     "metadata": {},
     "output_type": "execute_result"
    }
   ],
   "source": [
    "import numpy as np\n",
    "np.random.rand(10)"
   ]
  },
  {
   "cell_type": "code",
   "execution_count": 37,
   "metadata": {},
   "outputs": [
    {
     "name": "stdout",
     "output_type": "stream",
     "text": [
      "  country  population\n",
      "0       a    0.100918\n",
      "1       b    0.537807\n",
      "2       c    0.090721\n",
      "3       d    0.266780\n",
      "4       e    0.102657\n",
      "5       f    0.088985\n",
      "6       g    0.251171\n",
      "7       h    0.672679\n",
      "8       i    0.002202\n",
      "9       j    0.897262\n"
     ]
    }
   ],
   "source": [
    "data_s={'country':['a','b','c','d','e','f','g','h','i','j'],\n",
    "        'population':[0.10091828, 0.53780719, 0.09072052, 0.26677978, 0.10265694,\n",
    "       0.08898451, 0.25117107, 0.67267884, 0.00220188, 0.89726221]}\n",
    "data_s=pd.DataFrame(data_s)\n",
    "print(data_s)"
   ]
  },
  {
   "cell_type": "code",
   "execution_count": 41,
   "metadata": {},
   "outputs": [
    {
     "data": {
      "text/plain": [
       "0.89726221"
      ]
     },
     "execution_count": 41,
     "metadata": {},
     "output_type": "execute_result"
    }
   ],
   "source": [
    "#求最大值\n",
    "#data_s['population'].idxmax()\n",
    "data_s['population'].max()"
   ]
  },
  {
   "cell_type": "code",
   "execution_count": null,
   "metadata": {},
   "outputs": [],
   "source": []
  }
 ],
 "metadata": {
  "kernelspec": {
   "display_name": "Python 3",
   "language": "python",
   "name": "python3"
  },
  "language_info": {
   "codemirror_mode": {
    "name": "ipython",
    "version": 3
   },
   "file_extension": ".py",
   "mimetype": "text/x-python",
   "name": "python",
   "nbconvert_exporter": "python",
   "pygments_lexer": "ipython3",
   "version": "3.7.4"
  }
 },
 "nbformat": 4,
 "nbformat_minor": 2
}
